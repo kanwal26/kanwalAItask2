{
  "nbformat": 4,
  "nbformat_minor": 0,
  "metadata": {
    "colab": {
      "provenance": []
    },
    "kernelspec": {
      "name": "python3",
      "display_name": "Python 3"
    },
    "language_info": {
      "name": "python"
    }
  },
  "cells": [
    {
      "cell_type": "markdown",
      "source": [
        "Implementation of each task in Python using NumPy"
      ],
      "metadata": {
        "id": "4sDjqNX6gC0_"
      }
    },
    {
      "cell_type": "markdown",
      "source": [
        "1.1.1 Create a 1D array of numbers from 0 to 9.\n"
      ],
      "metadata": {
        "id": "U4mcmSJKgSqn"
      }
    },
    {
      "cell_type": "code",
      "execution_count": 2,
      "metadata": {
        "colab": {
          "base_uri": "https://localhost:8080/"
        },
        "id": "nrf3QLOuUn0w",
        "outputId": "6142ad64-262b-4305-c0f4-8008c4599244"
      },
      "outputs": [
        {
          "output_type": "stream",
          "name": "stdout",
          "text": [
            "[0 1 2 3 4 5 6 7 8 9]\n"
          ]
        }
      ],
      "source": [
        "import numpy\n",
        "arr = numpy.array([0,1, 2, 3, 4, 5,6,7,8,9])\n",
        "print(arr)"
      ]
    },
    {
      "cell_type": "markdown",
      "source": [
        "1.2.1 Create a 2D array with shape (3, 3), where values range from 1 to 9.\n"
      ],
      "metadata": {
        "id": "yKjg2ikEgZDH"
      }
    },
    {
      "cell_type": "code",
      "source": [
        "import numpy\n",
        "arr2 = numpy.array([[1, 2, 3], [4, 5, 6], [7, 8, 9]])\n",
        "print(\"2D array:\\n\", arr2)"
      ],
      "metadata": {
        "colab": {
          "base_uri": "https://localhost:8080/"
        },
        "id": "ZB0OrBqtU6xM",
        "outputId": "4b56016e-af14-4aff-8b4b-878f457260ee"
      },
      "execution_count": 8,
      "outputs": [
        {
          "output_type": "stream",
          "name": "stdout",
          "text": [
            "2D array:\n",
            " [[1 2 3]\n",
            " [4 5 6]\n",
            " [7 8 9]]\n"
          ]
        }
      ]
    },
    {
      "cell_type": "markdown",
      "source": [
        "1.3.1 Create a 3D array of shape (2, 3, 4) filled with random integers from 1 to 100.\n"
      ],
      "metadata": {
        "id": "MmrFlKmLgdGs"
      }
    },
    {
      "cell_type": "code",
      "source": [
        "import numpy\n",
        "arr3 = numpy.random.randint(1, 101, (2, 3, 4))\n",
        "print(\"3D array:\\n\", arr3)"
      ],
      "metadata": {
        "colab": {
          "base_uri": "https://localhost:8080/"
        },
        "id": "0H5E8XsYW_DE",
        "outputId": "4638a0e3-2698-4e73-cbd6-5c85af4906b3"
      },
      "execution_count": 22,
      "outputs": [
        {
          "output_type": "stream",
          "name": "stdout",
          "text": [
            "3D array:\n",
            " [[[20 99 36 68]\n",
            "  [66 85  1 69]\n",
            "  [66 42 18 68]]\n",
            "\n",
            " [[23 96 34 56]\n",
            "  [92 75  1 52]\n",
            "  [69 81 50 60]]]\n"
          ]
        }
      ]
    },
    {
      "cell_type": "markdown",
      "source": [
        "1.1.1 Given the array arr2 from Task 1, extract the second row.\n"
      ],
      "metadata": {
        "id": "bfP31r53gif7"
      }
    },
    {
      "cell_type": "code",
      "source": [
        "import numpy\n",
        "second_row = arr2[1]\n",
        "print(\"Second row of 2D array:\", second_row)"
      ],
      "metadata": {
        "colab": {
          "base_uri": "https://localhost:8080/"
        },
        "id": "IBTXeldOZZe5",
        "outputId": "7c0bdd03-1063-439b-8545-bfacd32dbe6c"
      },
      "execution_count": 10,
      "outputs": [
        {
          "output_type": "stream",
          "name": "stdout",
          "text": [
            "Second row of 2D array: [4 5 6]\n"
          ]
        }
      ]
    },
    {
      "cell_type": "markdown",
      "source": [
        "1.2.1 Extract the element at the 3rd row and 2nd column of arr2.\n"
      ],
      "metadata": {
        "id": "LLTco90wgmFf"
      }
    },
    {
      "cell_type": "code",
      "source": [
        "import numpy\n",
        "element = arr2[2, 1]\n",
        "print(\"Element at 3rd row, 2nd column:\", element)"
      ],
      "metadata": {
        "colab": {
          "base_uri": "https://localhost:8080/"
        },
        "id": "jU9gPr5JZpME",
        "outputId": "a50cb09a-aa8f-4281-b98d-51434402e9ec"
      },
      "execution_count": 11,
      "outputs": [
        {
          "output_type": "stream",
          "name": "stdout",
          "text": [
            "Element at 3rd row, 2nd column: 8\n"
          ]
        }
      ]
    },
    {
      "cell_type": "markdown",
      "source": [
        "1.3.1 Extract all elements from the 3D array arr3 at the first index (0th layer)\n"
      ],
      "metadata": {
        "id": "MwC17Kxlgo0I"
      }
    },
    {
      "cell_type": "code",
      "source": [
        "import numpy\n",
        "first_layer = arr3[0]\n",
        "print(\"First layer of 3D array:\\n\", first_layer)"
      ],
      "metadata": {
        "colab": {
          "base_uri": "https://localhost:8080/"
        },
        "id": "6VaWPuUrZ17y",
        "outputId": "9451ae06-63dd-4373-b1bb-9bff6ac46c82"
      },
      "execution_count": 12,
      "outputs": [
        {
          "output_type": "stream",
          "name": "stdout",
          "text": [
            "First layer of 3D array:\n",
            " [[92 79 43 84]\n",
            " [21 42 90  8]\n",
            " [80 98 89 87]]\n"
          ]
        }
      ]
    },
    {
      "cell_type": "markdown",
      "source": [
        "1.1.1 Reshape the 1D array from Task 1 into a 2x5 2D array.\n"
      ],
      "metadata": {
        "id": "5g2xeJmdgtM5"
      }
    },
    {
      "cell_type": "code",
      "source": [
        "import numpy\n",
        "reshaped_arr = arr.reshape(2, 5)\n",
        "print(\"Reshaped 1D array into 2x5 2D array:\\n\", reshaped_arr)"
      ],
      "metadata": {
        "colab": {
          "base_uri": "https://localhost:8080/"
        },
        "id": "0Ql8yswcaCWP",
        "outputId": "415b60cc-511f-42b4-d2c7-e655bbe43079"
      },
      "execution_count": 14,
      "outputs": [
        {
          "output_type": "stream",
          "name": "stdout",
          "text": [
            "Reshaped 1D array into 2x5 2D array:\n",
            " [[0 1 2 3 4]\n",
            " [5 6 7 8 9]]\n"
          ]
        }
      ]
    },
    {
      "cell_type": "markdown",
      "source": [
        "1.2.1 Add 10 to each element of arr1.\n"
      ],
      "metadata": {
        "id": "xbVCdoKng1YF"
      }
    },
    {
      "cell_type": "code",
      "source": [
        "import numpy\n",
        "arr1_plus_10 = arr + 10\n",
        "print(\"arr1 + 10:\", arr1_plus_10)"
      ],
      "metadata": {
        "colab": {
          "base_uri": "https://localhost:8080/"
        },
        "id": "8L1ew2A5afpE",
        "outputId": "6c373c12-0f18-487d-976a-5d627aa367f6"
      },
      "execution_count": 16,
      "outputs": [
        {
          "output_type": "stream",
          "name": "stdout",
          "text": [
            "arr1 + 10: [10 11 12 13 14 15 16 17 18 19]\n"
          ]
        }
      ]
    },
    {
      "cell_type": "markdown",
      "source": [
        "1.3.1 Multiply each element of arr2 by 2.\n"
      ],
      "metadata": {
        "id": "WSPFakgJg2Oe"
      }
    },
    {
      "cell_type": "code",
      "source": [
        "import numpy\n",
        "arr2_times_2 = arr2 * 2\n",
        "print(\"arr2 * 2:\\n\", arr2_times_2)"
      ],
      "metadata": {
        "colab": {
          "base_uri": "https://localhost:8080/"
        },
        "id": "fFzO60NKaygc",
        "outputId": "59f6469d-9a64-4995-8f17-4f9b397042f7"
      },
      "execution_count": 17,
      "outputs": [
        {
          "output_type": "stream",
          "name": "stdout",
          "text": [
            "arr2 * 2:\n",
            " [[ 2  4  6]\n",
            " [ 8 10 12]\n",
            " [14 16 18]]\n"
          ]
        }
      ]
    },
    {
      "cell_type": "markdown",
      "source": [
        " Data Visualization with Matplotlib\n"
      ],
      "metadata": {
        "id": "d-0_KCbbc13c"
      }
    },
    {
      "cell_type": "markdown",
      "source": [
        "Task 1: Basic Line Plot\n"
      ],
      "metadata": {
        "id": "0TCntPYsg74w"
      }
    },
    {
      "cell_type": "code",
      "source": [
        "import matplotlib.pyplot as plt\n",
        "import numpy as np\n",
        "\n",
        "xpoints = np.array([1, 2, 3, 4, 5])\n",
        "ypoints = np.array([2, 4, 6, 8, 10])\n",
        "\n",
        "plt.plot(xpoints, ypoints)\n",
        "plt.xlabel('X-axis')\n",
        "plt.ylabel('Y-axis')\n",
        "plt.title('Basic Line Plot')\n",
        "plt.grid(True)\n",
        "plt.show()"
      ],
      "metadata": {
        "colab": {
          "base_uri": "https://localhost:8080/",
          "height": 472
        },
        "id": "-1o3OsV8c7U1",
        "outputId": "cf8d6f8a-a335-4704-8528-94cdc0d0738b"
      },
      "execution_count": 26,
      "outputs": [
        {
          "output_type": "display_data",
          "data": {
            "text/plain": [
              "<Figure size 640x480 with 1 Axes>"
            ],
            "image/png": "[encoded data removed]"
          },
          "metadata": {}
        }
      ]
    },
    {
      "cell_type": "markdown",
      "source": [
        "Task 2: Scatter Plot\n"
      ],
      "metadata": {
        "id": "yoHCjI9VhAg3"
      }
    },
    {
      "cell_type": "code",
      "source": [
        "\n",
        "x = [5, 7, 8, 7, 2, 17, 2, 9, 4, 11]\n",
        "y = [99, 86, 87, 88, 100, 86, 103, 87, 94, 78]\n",
        "plt.scatter(x, y, color='red', s=35)\n",
        "plt.title('Scattered Plot')\n",
        "plt.show()"
      ],
      "metadata": {
        "colab": {
          "base_uri": "https://localhost:8080/",
          "height": 452
        },
        "id": "5KrD1qFQd-x3",
        "outputId": "7135a64e-85f0-4bc3-d1e6-cb9acc04df3b"
      },
      "execution_count": 31,
      "outputs": [
        {
          "output_type": "display_data",
          "data": {
            "text/plain": [
              "<Figure size 640x480 with 1 Axes>"
            ],
            "image/png": "[encoded data removed]"
          },
          "metadata": {}
        }
      ]
    },
    {
      "cell_type": "markdown",
      "source": [
        "Task 3: Bar Plot\n"
      ],
      "metadata": {
        "id": "DwqN1LfbhDv0"
      }
    },
    {
      "cell_type": "code",
      "source": [
        "categories = ['A', 'B', 'C', 'D', 'E']\n",
        "values = [5, 7, 3, 8, 6]\n",
        "plt.bar(categories, values, color=[ 'blue', 'green', 'yellow', 'red', 'purple'])\n",
        "plt.title('Bar Plot')\n",
        "plt.show()\n"
      ],
      "metadata": {
        "colab": {
          "base_uri": "https://localhost:8080/",
          "height": 452
        },
        "id": "dn4HiVrCeivq",
        "outputId": "af606dcd-5eac-4f3f-b6a4-e1d14443c084"
      },
      "execution_count": 33,
      "outputs": [
        {
          "output_type": "display_data",
          "data": {
            "text/plain": [
              "<Figure size 640x480 with 1 Axes>"
            ],
            "image/png": "[encoded data removed]"
          },
          "metadata": {}
        }
      ]
    },
    {
      "cell_type": "markdown",
      "source": [
        "Task 4: Histogram\n"
      ],
      "metadata": {
        "id": "K-xHy_0AhHkJ"
      }
    },
    {
      "cell_type": "code",
      "source": [
        "random_data = np.random.randn(1000)\n",
        "plt.hist(random_data, bins=30, color='yellow')\n",
        "plt.title('Histogram')\n",
        "plt.show()"
      ],
      "metadata": {
        "colab": {
          "base_uri": "https://localhost:8080/",
          "height": 452
        },
        "id": "VF2rkZuVfGXS",
        "outputId": "2c23078c-9de0-48fb-948e-7543fd25b241"
      },
      "execution_count": 35,
      "outputs": [
        {
          "output_type": "display_data",
          "data": {
            "text/plain": [
              "<Figure size 640x480 with 1 Axes>"
            ],
            "image/png": "[encoded data removed]"
          },
          "metadata": {}
        }
      ]
    },
    {
      "cell_type": "markdown",
      "source": [
        "Task 5: Pie Chart\n"
      ],
      "metadata": {
        "id": "8yiMREgPhLML"
      }
    },
    {
      "cell_type": "code",
      "source": [
        "labels = ['Python', 'Java', 'C++', 'JavaScript']\n",
        "sizes = [50, 25, 15, 10]\n",
        "explode = (0.1, 0, 0, 0)\n",
        "plt.pie(sizes, labels=labels, explode=explode, startangle=90)\n",
        "plt.title('Pie Chart')\n",
        "plt.show()"
      ],
      "metadata": {
        "colab": {
          "base_uri": "https://localhost:8080/",
          "height": 428
        },
        "id": "8Zoksro4faAp",
        "outputId": "e6fd354d-4782-482d-db33-b2e97cac0918"
      },
      "execution_count": 42,
      "outputs": [
        {
          "output_type": "display_data",
          "data": {
            "text/plain": [
              "<Figure size 640x480 with 1 Axes>"
            ],
            "image/png": "[encoded data removed]"
          },
          "metadata": {}
        }
      ]
    }
  ]
}